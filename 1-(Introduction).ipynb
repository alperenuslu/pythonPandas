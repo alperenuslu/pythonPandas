{
 "cells": [
  {
   "cell_type": "markdown",
   "id": "1a1c38e0",
   "metadata": {},
   "source": [
    "# Pandas'a Giriş\n",
    "* Pandas; veriyi yüklemek, analiz etmek, temizlemek, işlemek ve görselleştirmek için kullanılan bir Python kütüphanesidir"
   ]
  },
  {
   "cell_type": "code",
   "execution_count": 2,
   "id": "3a84c287",
   "metadata": {},
   "outputs": [],
   "source": [
    "import pandas as pd\n",
    "import numpy as np"
   ]
  },
  {
   "cell_type": "markdown",
   "id": "fdf87ce4",
   "metadata": {},
   "source": [
    "# Pandas Series (Pandas Serileri)\n",
    "* Pandas Series, her değerin bir indekse sahip olduğu tek boyutlu bir array'dir. Örneğin; bir tablodaki bir sütunu bir Pandas    Series olarak gösterebiliriz. Aşağıda bir sayı arrayi Pandas Series'e dönüştürülmüş:"
   ]
  },
  {
   "cell_type": "code",
   "execution_count": 3,
   "id": "3d0304e8",
   "metadata": {},
   "outputs": [],
   "source": [
    "series = pd.Series([49, 43, 65, 40, 160])"
   ]
  },
  {
   "cell_type": "code",
   "execution_count": 4,
   "id": "fdfcf14c",
   "metadata": {},
   "outputs": [
    {
     "data": {
      "text/plain": [
       "0     49\n",
       "1     43\n",
       "2     65\n",
       "3     40\n",
       "4    160\n",
       "dtype: int64"
      ]
     },
     "execution_count": 4,
     "metadata": {},
     "output_type": "execute_result"
    }
   ],
   "source": [
    "series"
   ]
  },
  {
   "cell_type": "markdown",
   "id": "43b5d2cb",
   "metadata": {},
   "source": [
    "* Sağ sütunda serideki değerler, sol sütunda bu değerlerin serideki indeksleri, altta ise \"dtype\" yani veri tipi olarak \"64 bit integer\" yani serideki değerlerin \"tam sayı\" olduğu yazıyor. Dikkat ederseniz bu değerler aslında bir NumPy array olarak saklandığı için veri tipi tüm değerler için ortak."
   ]
  },
  {
   "cell_type": "code",
   "execution_count": 5,
   "id": "e605eb17",
   "metadata": {},
   "outputs": [],
   "source": [
    "series.name = \"Pokemon Savunma Güçleri\""
   ]
  },
  {
   "cell_type": "code",
   "execution_count": 6,
   "id": "6adc0559",
   "metadata": {},
   "outputs": [
    {
     "data": {
      "text/plain": [
       "0     49\n",
       "1     43\n",
       "2     65\n",
       "3     40\n",
       "4    160\n",
       "Name: Pokemon Savunma Güçleri, dtype: int64"
      ]
     },
     "execution_count": 6,
     "metadata": {},
     "output_type": "execute_result"
    }
   ],
   "source": [
    "series"
   ]
  },
  {
   "cell_type": "markdown",
   "id": "149df275",
   "metadata": {},
   "source": [
    "* Seri, NumPy array'e benzer. Birçok ortak özellikleri vardır."
   ]
  },
  {
   "cell_type": "code",
   "execution_count": 7,
   "id": "93e8864b",
   "metadata": {},
   "outputs": [
    {
     "data": {
      "text/plain": [
       "dtype('int64')"
      ]
     },
     "execution_count": 7,
     "metadata": {},
     "output_type": "execute_result"
    }
   ],
   "source": [
    "series.dtype"
   ]
  },
  {
   "cell_type": "markdown",
   "id": "b7f553e6",
   "metadata": {},
   "source": [
    "* Serinin değerlerini bir NumPy array olarak alabiliriz."
   ]
  },
  {
   "cell_type": "code",
   "execution_count": 8,
   "id": "88ab0d9e",
   "metadata": {},
   "outputs": [
    {
     "data": {
      "text/plain": [
       "array([ 49,  43,  65,  40, 160], dtype=int64)"
      ]
     },
     "execution_count": 8,
     "metadata": {},
     "output_type": "execute_result"
    }
   ],
   "source": [
    "series.values"
   ]
  },
  {
   "cell_type": "markdown",
   "id": "a493c18a",
   "metadata": {},
   "source": [
    "* Dediğimiz gibi her değerin bir indeksi var. İndeksleri seriyi yazdırdığımızda görebiliriz. Bir indeksteki değeri NumPy array'deki gibi alabiliriz."
   ]
  },
  {
   "cell_type": "code",
   "execution_count": 9,
   "id": "fad1de5b",
   "metadata": {},
   "outputs": [
    {
     "data": {
      "text/plain": [
       "43"
      ]
     },
     "execution_count": 9,
     "metadata": {},
     "output_type": "execute_result"
    }
   ],
   "source": [
    "series[1]"
   ]
  },
  {
   "cell_type": "code",
   "execution_count": 11,
   "id": "96ea785b",
   "metadata": {},
   "outputs": [
    {
     "data": {
      "text/plain": [
       "RangeIndex(start=0, stop=5, step=1)"
      ]
     },
     "execution_count": 11,
     "metadata": {},
     "output_type": "execute_result"
    }
   ],
   "source": [
    "series.index"
   ]
  },
  {
   "cell_type": "markdown",
   "id": "703752b7",
   "metadata": {},
   "source": [
    "* Buradaki değerlerin 5 pokemonun savunma değerleri olduğunu söylemiştik. İndekslere de pokemon adlarını verelim!"
   ]
  },
  {
   "cell_type": "code",
   "execution_count": 12,
   "id": "099fcbf3",
   "metadata": {},
   "outputs": [],
   "source": [
    "series.index = [\"Bulbasaur\", \"Charmander\", \"Squirtle\", \"Pikachu\", \"Onix\"]"
   ]
  },
  {
   "cell_type": "code",
   "execution_count": 13,
   "id": "81e1d29e",
   "metadata": {},
   "outputs": [
    {
     "data": {
      "text/plain": [
       "Bulbasaur      49\n",
       "Charmander     43\n",
       "Squirtle       65\n",
       "Pikachu        40\n",
       "Onix          160\n",
       "Name: Pokemon Savunma Güçleri, dtype: int64"
      ]
     },
     "execution_count": 13,
     "metadata": {},
     "output_type": "execute_result"
    }
   ],
   "source": [
    "series"
   ]
  },
  {
   "cell_type": "markdown",
   "id": "6deea732",
   "metadata": {},
   "source": [
    "* Evet! İndeks değerleri artık pokemon isimleri ve istediğimiz pokemona rahatlıkla erişebiliriz artık.\n",
    "  İndeks-değer eşlerinden oluşan bir dictionary (sözlük) kullanarak da seri oluşturabiliriz."
   ]
  },
  {
   "cell_type": "code",
   "execution_count": 14,
   "id": "14bcbee5",
   "metadata": {},
   "outputs": [
    {
     "data": {
      "text/plain": [
       "Bulbasaur      49\n",
       "Charmander     43\n",
       "Squirtle       65\n",
       "Pikachu        40\n",
       "Onix          160\n",
       "Name: Pokemon Savunma Güçleri, dtype: int64"
      ]
     },
     "execution_count": 14,
     "metadata": {},
     "output_type": "execute_result"
    }
   ],
   "source": [
    "pd.Series({\n",
    "    'Bulbasaur': 49, \n",
    "    'Charmander': 43, \n",
    "    'Squirtle': 65, \n",
    "    'Pikachu': 40, \n",
    "    'Onix': 160\n",
    "    }, name=\"Pokemon Savunma Güçleri\")"
   ]
  },
  {
   "cell_type": "code",
   "execution_count": null,
   "id": "f4dd39cf",
   "metadata": {},
   "outputs": [],
   "source": []
  }
 ],
 "metadata": {
  "kernelspec": {
   "display_name": "Python 3 (ipykernel)",
   "language": "python",
   "name": "python3"
  },
  "language_info": {
   "codemirror_mode": {
    "name": "ipython",
    "version": 3
   },
   "file_extension": ".py",
   "mimetype": "text/x-python",
   "name": "python",
   "nbconvert_exporter": "python",
   "pygments_lexer": "ipython3",
   "version": "3.10.5"
  }
 },
 "nbformat": 4,
 "nbformat_minor": 5
}
