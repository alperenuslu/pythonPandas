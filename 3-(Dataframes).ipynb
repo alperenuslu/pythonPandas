{
 "cells": [
  {
   "cell_type": "code",
   "execution_count": 1,
   "id": "02a2bc06",
   "metadata": {},
   "outputs": [],
   "source": [
    "import pandas as pd"
   ]
  },
  {
   "cell_type": "code",
   "execution_count": 2,
   "id": "a2004d83",
   "metadata": {},
   "outputs": [],
   "source": [
    "import numpy as np"
   ]
  },
  {
   "cell_type": "code",
   "execution_count": 3,
   "id": "8c6d1e95",
   "metadata": {},
   "outputs": [],
   "source": [
    "series = pd.Series({\n",
    "    'Bulbasaur': 49, \n",
    "    'Charmander': 43, \n",
    "    'Squirtle': 65, \n",
    "    'Pikachu': 40, \n",
    "    'Onix': 160\n",
    "    }, name=\"Pokemon Savunma Güçleri\")"
   ]
  },
  {
   "cell_type": "markdown",
   "id": "e37b88eb",
   "metadata": {},
   "source": [
    "# DataFrames (Veri Tabloları)\n",
    "* Pandas Dataframe, satır ve sütunlardan oluşan 2 boyutlu bir tablodur. Aşağıda bir dataframe oluşturalım:"
   ]
  },
  {
   "cell_type": "code",
   "execution_count": 4,
   "id": "07d9892f",
   "metadata": {},
   "outputs": [],
   "source": [
    "# pokemon dataframe oluşturalım\n",
    "pokemon = pd.DataFrame({\n",
    "    'atak': [49, 52, 48, 55, 45],\n",
    "    'savunma': [49, 43, 65, 40, 160],\n",
    "     'hız': [45, 65, 43, 90, 70],\n",
    "     'tür': ['ot', 'ateş', 'su', 'elektrik', 'kaya']\n",
    "    }, index=[\"Bulbasaur\", \"Charmander\", \"Squirtle\", \"Pikachu\", \"Onix\"])"
   ]
  },
  {
   "cell_type": "code",
   "execution_count": 5,
   "id": "a141f730",
   "metadata": {},
   "outputs": [
    {
     "data": {
      "text/html": [
       "<div>\n",
       "<style scoped>\n",
       "    .dataframe tbody tr th:only-of-type {\n",
       "        vertical-align: middle;\n",
       "    }\n",
       "\n",
       "    .dataframe tbody tr th {\n",
       "        vertical-align: top;\n",
       "    }\n",
       "\n",
       "    .dataframe thead th {\n",
       "        text-align: right;\n",
       "    }\n",
       "</style>\n",
       "<table border=\"1\" class=\"dataframe\">\n",
       "  <thead>\n",
       "    <tr style=\"text-align: right;\">\n",
       "      <th></th>\n",
       "      <th>atak</th>\n",
       "      <th>savunma</th>\n",
       "      <th>hız</th>\n",
       "      <th>tür</th>\n",
       "    </tr>\n",
       "  </thead>\n",
       "  <tbody>\n",
       "    <tr>\n",
       "      <th>Bulbasaur</th>\n",
       "      <td>49</td>\n",
       "      <td>49</td>\n",
       "      <td>45</td>\n",
       "      <td>ot</td>\n",
       "    </tr>\n",
       "    <tr>\n",
       "      <th>Charmander</th>\n",
       "      <td>52</td>\n",
       "      <td>43</td>\n",
       "      <td>65</td>\n",
       "      <td>ateş</td>\n",
       "    </tr>\n",
       "    <tr>\n",
       "      <th>Squirtle</th>\n",
       "      <td>48</td>\n",
       "      <td>65</td>\n",
       "      <td>43</td>\n",
       "      <td>su</td>\n",
       "    </tr>\n",
       "    <tr>\n",
       "      <th>Pikachu</th>\n",
       "      <td>55</td>\n",
       "      <td>40</td>\n",
       "      <td>90</td>\n",
       "      <td>elektrik</td>\n",
       "    </tr>\n",
       "    <tr>\n",
       "      <th>Onix</th>\n",
       "      <td>45</td>\n",
       "      <td>160</td>\n",
       "      <td>70</td>\n",
       "      <td>kaya</td>\n",
       "    </tr>\n",
       "  </tbody>\n",
       "</table>\n",
       "</div>"
      ],
      "text/plain": [
       "            atak  savunma  hız       tür\n",
       "Bulbasaur     49       49   45        ot\n",
       "Charmander    52       43   65      ateş\n",
       "Squirtle      48       65   43        su\n",
       "Pikachu       55       40   90  elektrik\n",
       "Onix          45      160   70      kaya"
      ]
     },
     "execution_count": 5,
     "metadata": {},
     "output_type": "execute_result"
    }
   ],
   "source": [
    "# dataframe'i yazdıralım\n",
    "pokemon"
   ]
  },
  {
   "cell_type": "markdown",
   "id": "7cc8fa89",
   "metadata": {},
   "source": [
    "* Dataframe'lerin bazı özelliklerine bakalım:\n",
    "* Dataframe'in sütunlarına \".columns\" değeri ile erişelim."
   ]
  },
  {
   "cell_type": "code",
   "execution_count": 8,
   "id": "a0f0e86e",
   "metadata": {},
   "outputs": [
    {
     "data": {
      "text/plain": [
       "Index(['atak', 'savunma', 'hız', 'tür'], dtype='object')"
      ]
     },
     "execution_count": 8,
     "metadata": {},
     "output_type": "execute_result"
    }
   ],
   "source": [
    "pokemon.columns"
   ]
  },
  {
   "cell_type": "markdown",
   "id": "9dc3288a",
   "metadata": {},
   "source": [
    "* \".info()\" metodu ile dataframe hakkındaki bazı bilgileri edinebiliriz."
   ]
  },
  {
   "cell_type": "code",
   "execution_count": 9,
   "id": "1c4562ac",
   "metadata": {},
   "outputs": [
    {
     "name": "stdout",
     "output_type": "stream",
     "text": [
      "<class 'pandas.core.frame.DataFrame'>\n",
      "Index: 5 entries, Bulbasaur to Onix\n",
      "Data columns (total 4 columns):\n",
      " #   Column   Non-Null Count  Dtype \n",
      "---  ------   --------------  ----- \n",
      " 0   atak     5 non-null      int64 \n",
      " 1   savunma  5 non-null      int64 \n",
      " 2   hız      5 non-null      int64 \n",
      " 3   tür      5 non-null      object\n",
      "dtypes: int64(3), object(1)\n",
      "memory usage: 200.0+ bytes\n"
     ]
    }
   ],
   "source": [
    "pokemon.info()"
   ]
  },
  {
   "cell_type": "markdown",
   "id": "99515153",
   "metadata": {},
   "source": [
    "* Toplam değer sayısına bakalım:"
   ]
  },
  {
   "cell_type": "code",
   "execution_count": 10,
   "id": "0c635867",
   "metadata": {},
   "outputs": [
    {
     "data": {
      "text/plain": [
       "20"
      ]
     },
     "execution_count": 10,
     "metadata": {},
     "output_type": "execute_result"
    }
   ],
   "source": [
    "pokemon.size"
   ]
  },
  {
   "cell_type": "markdown",
   "id": "a5620489",
   "metadata": {},
   "source": [
    "* Pokemon dataframe'inin biçimini (satır ve sütun sayısını) yazdıralım:"
   ]
  },
  {
   "cell_type": "code",
   "execution_count": 11,
   "id": "80935ebe",
   "metadata": {},
   "outputs": [
    {
     "data": {
      "text/plain": [
       "(5, 4)"
      ]
     },
     "execution_count": 11,
     "metadata": {},
     "output_type": "execute_result"
    }
   ],
   "source": [
    "pokemon.shape"
   ]
  },
  {
   "cell_type": "markdown",
   "id": "9ffbd37d",
   "metadata": {},
   "source": [
    "* Dataframe'in sayısal değerlerinin ortalama, sayı, standart sapma gibi değerlerini yazdıralım:"
   ]
  },
  {
   "cell_type": "code",
   "execution_count": 15,
   "id": "35ebac99",
   "metadata": {},
   "outputs": [
    {
     "data": {
      "text/html": [
       "<div>\n",
       "<style scoped>\n",
       "    .dataframe tbody tr th:only-of-type {\n",
       "        vertical-align: middle;\n",
       "    }\n",
       "\n",
       "    .dataframe tbody tr th {\n",
       "        vertical-align: top;\n",
       "    }\n",
       "\n",
       "    .dataframe thead th {\n",
       "        text-align: right;\n",
       "    }\n",
       "</style>\n",
       "<table border=\"1\" class=\"dataframe\">\n",
       "  <thead>\n",
       "    <tr style=\"text-align: right;\">\n",
       "      <th></th>\n",
       "      <th>atak</th>\n",
       "      <th>savunma</th>\n",
       "      <th>hız</th>\n",
       "    </tr>\n",
       "  </thead>\n",
       "  <tbody>\n",
       "    <tr>\n",
       "      <th>count</th>\n",
       "      <td>5.000000</td>\n",
       "      <td>5.000000</td>\n",
       "      <td>5.000000</td>\n",
       "    </tr>\n",
       "    <tr>\n",
       "      <th>mean</th>\n",
       "      <td>49.800000</td>\n",
       "      <td>71.400000</td>\n",
       "      <td>62.600000</td>\n",
       "    </tr>\n",
       "    <tr>\n",
       "      <th>std</th>\n",
       "      <td>3.834058</td>\n",
       "      <td>50.460876</td>\n",
       "      <td>19.398454</td>\n",
       "    </tr>\n",
       "    <tr>\n",
       "      <th>min</th>\n",
       "      <td>45.000000</td>\n",
       "      <td>40.000000</td>\n",
       "      <td>43.000000</td>\n",
       "    </tr>\n",
       "    <tr>\n",
       "      <th>25%</th>\n",
       "      <td>48.000000</td>\n",
       "      <td>43.000000</td>\n",
       "      <td>45.000000</td>\n",
       "    </tr>\n",
       "    <tr>\n",
       "      <th>50%</th>\n",
       "      <td>49.000000</td>\n",
       "      <td>49.000000</td>\n",
       "      <td>65.000000</td>\n",
       "    </tr>\n",
       "    <tr>\n",
       "      <th>75%</th>\n",
       "      <td>52.000000</td>\n",
       "      <td>65.000000</td>\n",
       "      <td>70.000000</td>\n",
       "    </tr>\n",
       "    <tr>\n",
       "      <th>max</th>\n",
       "      <td>55.000000</td>\n",
       "      <td>160.000000</td>\n",
       "      <td>90.000000</td>\n",
       "    </tr>\n",
       "  </tbody>\n",
       "</table>\n",
       "</div>"
      ],
      "text/plain": [
       "            atak     savunma        hız\n",
       "count   5.000000    5.000000   5.000000\n",
       "mean   49.800000   71.400000  62.600000\n",
       "std     3.834058   50.460876  19.398454\n",
       "min    45.000000   40.000000  43.000000\n",
       "25%    48.000000   43.000000  45.000000\n",
       "50%    49.000000   49.000000  65.000000\n",
       "75%    52.000000   65.000000  70.000000\n",
       "max    55.000000  160.000000  90.000000"
      ]
     },
     "execution_count": 15,
     "metadata": {},
     "output_type": "execute_result"
    }
   ],
   "source": [
    "pokemon.describe()"
   ]
  },
  {
   "cell_type": "markdown",
   "id": "72e11a2d",
   "metadata": {},
   "source": [
    "### İndeksleme, Seçme ve Dilimleme\n",
    "* İstediğimiz sütunu adı ile indeksleyerek seçebiliriz."
   ]
  },
  {
   "cell_type": "code",
   "execution_count": 16,
   "id": "3e627f22",
   "metadata": {},
   "outputs": [
    {
     "data": {
      "text/plain": [
       "Bulbasaur     45\n",
       "Charmander    65\n",
       "Squirtle      43\n",
       "Pikachu       90\n",
       "Onix          70\n",
       "Name: hız, dtype: int64"
      ]
     },
     "execution_count": 16,
     "metadata": {},
     "output_type": "execute_result"
    }
   ],
   "source": [
    "pokemon[\"hız\"]"
   ]
  },
  {
   "cell_type": "markdown",
   "id": "bd32ad39",
   "metadata": {},
   "source": [
    "* Dataframe'de de satırları sayısal indeksleriyle seçmek için \".iloc()\" metodunu kullanabiliriz."
   ]
  },
  {
   "cell_type": "code",
   "execution_count": 17,
   "id": "24662774",
   "metadata": {},
   "outputs": [
    {
     "data": {
      "text/plain": [
       "atak         52\n",
       "savunma      43\n",
       "hız          65\n",
       "tür        ateş\n",
       "Name: Charmander, dtype: object"
      ]
     },
     "execution_count": 17,
     "metadata": {},
     "output_type": "execute_result"
    }
   ],
   "source": [
    "pokemon.iloc[1]"
   ]
  },
  {
   "cell_type": "markdown",
   "id": "ee45ac5a",
   "metadata": {},
   "source": [
    "* Satırları normal indeksleriyle seçmek için ise \".loc()\" metodunu kullanabiliriz."
   ]
  },
  {
   "cell_type": "code",
   "execution_count": 18,
   "id": "ed6ece1a",
   "metadata": {},
   "outputs": [
    {
     "data": {
      "text/plain": [
       "atak             55\n",
       "savunma          40\n",
       "hız              90\n",
       "tür        elektrik\n",
       "Name: Pikachu, dtype: object"
      ]
     },
     "execution_count": 18,
     "metadata": {},
     "output_type": "execute_result"
    }
   ],
   "source": [
    "pokemon.loc[\"Pikachu\"]"
   ]
  },
  {
   "cell_type": "markdown",
   "id": "19c5071a",
   "metadata": {},
   "source": [
    "* Dataframe'de de dilimleme gibi şeyler yapabiliriz. 2 boyutlu olduğu için şöyle yaparız:"
   ]
  },
  {
   "cell_type": "code",
   "execution_count": 19,
   "id": "3ac32956",
   "metadata": {},
   "outputs": [
    {
     "data": {
      "text/html": [
       "<div>\n",
       "<style scoped>\n",
       "    .dataframe tbody tr th:only-of-type {\n",
       "        vertical-align: middle;\n",
       "    }\n",
       "\n",
       "    .dataframe tbody tr th {\n",
       "        vertical-align: top;\n",
       "    }\n",
       "\n",
       "    .dataframe thead th {\n",
       "        text-align: right;\n",
       "    }\n",
       "</style>\n",
       "<table border=\"1\" class=\"dataframe\">\n",
       "  <thead>\n",
       "    <tr style=\"text-align: right;\">\n",
       "      <th></th>\n",
       "      <th>atak</th>\n",
       "      <th>savunma</th>\n",
       "    </tr>\n",
       "  </thead>\n",
       "  <tbody>\n",
       "    <tr>\n",
       "      <th>Charmander</th>\n",
       "      <td>52</td>\n",
       "      <td>43</td>\n",
       "    </tr>\n",
       "    <tr>\n",
       "      <th>Squirtle</th>\n",
       "      <td>48</td>\n",
       "      <td>65</td>\n",
       "    </tr>\n",
       "  </tbody>\n",
       "</table>\n",
       "</div>"
      ],
      "text/plain": [
       "            atak  savunma\n",
       "Charmander    52       43\n",
       "Squirtle      48       65"
      ]
     },
     "execution_count": 19,
     "metadata": {},
     "output_type": "execute_result"
    }
   ],
   "source": [
    "pokemon.loc[\"Charmander\": \"Squirtle\", \"atak\": \"savunma\"]"
   ]
  },
  {
   "cell_type": "markdown",
   "id": "3a6fbe8f",
   "metadata": {},
   "source": [
    "* Not: dataframe'de indeksleme yaparken kullanabiliyorsak \".iloc()\" metodunu kullanalım."
   ]
  },
  {
   "cell_type": "code",
   "execution_count": null,
   "id": "d63b5e24",
   "metadata": {},
   "outputs": [],
   "source": []
  }
 ],
 "metadata": {
  "kernelspec": {
   "display_name": "Python 3 (ipykernel)",
   "language": "python",
   "name": "python3"
  },
  "language_info": {
   "codemirror_mode": {
    "name": "ipython",
    "version": 3
   },
   "file_extension": ".py",
   "mimetype": "text/x-python",
   "name": "python",
   "nbconvert_exporter": "python",
   "pygments_lexer": "ipython3",
   "version": "3.10.5"
  }
 },
 "nbformat": 4,
 "nbformat_minor": 5
}
