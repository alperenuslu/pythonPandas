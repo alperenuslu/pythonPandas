{
 "cells": [
  {
   "cell_type": "code",
   "execution_count": 39,
   "id": "6ef06745",
   "metadata": {},
   "outputs": [],
   "source": [
    "import pandas as pd"
   ]
  },
  {
   "cell_type": "code",
   "execution_count": 40,
   "id": "1488b2ad",
   "metadata": {},
   "outputs": [],
   "source": [
    "import numpy as np"
   ]
  },
  {
   "cell_type": "code",
   "execution_count": 41,
   "id": "05199aa3",
   "metadata": {},
   "outputs": [],
   "source": [
    "series = pd.Series({\n",
    "    'Bulbasaur': 49, \n",
    "    'Charmander': 43, \n",
    "    'Squirtle': 65, \n",
    "    'Pikachu': 40, \n",
    "    'Onix': 160\n",
    "    }, name=\"Pokemon Savunma Güçleri\")"
   ]
  },
  {
   "cell_type": "code",
   "execution_count": 42,
   "id": "187ed9af",
   "metadata": {},
   "outputs": [],
   "source": [
    "pokemon = pd.DataFrame({\n",
    "    'atak': [49, 52, 48, 55, 45],\n",
    "    'savunma': [49, 43, 65, 40, 160],\n",
    "     'hız': [45, 65, 43, 90, 70],\n",
    "     'tür': ['ot', 'ateş', 'su', 'elektrik', 'kaya'],\n",
    "    'boy': [0.7, 0.6, 0.5, 0.4, 8.8]\n",
    "    }, index=[\"Bulbasaur\", \"Charmander\", \"Squirtle\", \"Pikachu\", \"Onix\"])"
   ]
  },
  {
   "cell_type": "markdown",
   "id": "36e9a110",
   "metadata": {},
   "source": [
    "# Sütun Oluşturma ve Veri Okuma"
   ]
  },
  {
   "cell_type": "markdown",
   "id": "daa56776",
   "metadata": {},
   "source": [
    "### Dataframe'leri Değiştirme/Düzenleme\n",
    "* Satır ekleme\n",
    "* Charmander'in gelişmiş hali olan Charizard'ı da ekleyelim:\n",
    "* Not: dataframe'e satırı eklemek için kodu: pokemon = pokemon.append(...) şekinde yazmamız gerekir."
   ]
  },
  {
   "cell_type": "code",
   "execution_count": 57,
   "id": "db9a67d0",
   "metadata": {},
   "outputs": [
    {
     "name": "stderr",
     "output_type": "stream",
     "text": [
      "C:\\Users\\Alper\\AppData\\Local\\Temp\\ipykernel_13012\\1528612821.py:1: FutureWarning: The frame.append method is deprecated and will be removed from pandas in a future version. Use pandas.concat instead.\n",
      "  pokemon.append(pd.Series({\n"
     ]
    },
    {
     "data": {
      "text/html": [
       "<div>\n",
       "<style scoped>\n",
       "    .dataframe tbody tr th:only-of-type {\n",
       "        vertical-align: middle;\n",
       "    }\n",
       "\n",
       "    .dataframe tbody tr th {\n",
       "        vertical-align: top;\n",
       "    }\n",
       "\n",
       "    .dataframe thead th {\n",
       "        text-align: right;\n",
       "    }\n",
       "</style>\n",
       "<table border=\"1\" class=\"dataframe\">\n",
       "  <thead>\n",
       "    <tr style=\"text-align: right;\">\n",
       "      <th></th>\n",
       "      <th>atak</th>\n",
       "      <th>savunma</th>\n",
       "      <th>hız</th>\n",
       "      <th>tür</th>\n",
       "      <th>boy</th>\n",
       "      <th>toplam güç</th>\n",
       "      <th>saldırganlık</th>\n",
       "    </tr>\n",
       "  </thead>\n",
       "  <tbody>\n",
       "    <tr>\n",
       "      <th>Bulbasaur</th>\n",
       "      <td>49</td>\n",
       "      <td>49</td>\n",
       "      <td>45</td>\n",
       "      <td>ot</td>\n",
       "      <td>0.7</td>\n",
       "      <td>143.0</td>\n",
       "      <td>1.000000</td>\n",
       "    </tr>\n",
       "    <tr>\n",
       "      <th>Charmander</th>\n",
       "      <td>52</td>\n",
       "      <td>43</td>\n",
       "      <td>65</td>\n",
       "      <td>ateş</td>\n",
       "      <td>0.6</td>\n",
       "      <td>160.0</td>\n",
       "      <td>1.209302</td>\n",
       "    </tr>\n",
       "    <tr>\n",
       "      <th>Squirtle</th>\n",
       "      <td>48</td>\n",
       "      <td>65</td>\n",
       "      <td>43</td>\n",
       "      <td>su</td>\n",
       "      <td>0.5</td>\n",
       "      <td>156.0</td>\n",
       "      <td>0.738462</td>\n",
       "    </tr>\n",
       "    <tr>\n",
       "      <th>Pikachu</th>\n",
       "      <td>55</td>\n",
       "      <td>40</td>\n",
       "      <td>90</td>\n",
       "      <td>elektrik</td>\n",
       "      <td>0.4</td>\n",
       "      <td>185.0</td>\n",
       "      <td>1.375000</td>\n",
       "    </tr>\n",
       "    <tr>\n",
       "      <th>Onix</th>\n",
       "      <td>45</td>\n",
       "      <td>160</td>\n",
       "      <td>70</td>\n",
       "      <td>kaya</td>\n",
       "      <td>8.8</td>\n",
       "      <td>275.0</td>\n",
       "      <td>0.281250</td>\n",
       "    </tr>\n",
       "    <tr>\n",
       "      <th>Charizard</th>\n",
       "      <td>104</td>\n",
       "      <td>78</td>\n",
       "      <td>100</td>\n",
       "      <td>ateş</td>\n",
       "      <td>1.7</td>\n",
       "      <td>NaN</td>\n",
       "      <td>NaN</td>\n",
       "    </tr>\n",
       "  </tbody>\n",
       "</table>\n",
       "</div>"
      ],
      "text/plain": [
       "            atak  savunma  hız       tür  boy  toplam güç  saldırganlık\n",
       "Bulbasaur     49       49   45        ot  0.7       143.0      1.000000\n",
       "Charmander    52       43   65      ateş  0.6       160.0      1.209302\n",
       "Squirtle      48       65   43        su  0.5       156.0      0.738462\n",
       "Pikachu       55       40   90  elektrik  0.4       185.0      1.375000\n",
       "Onix          45      160   70      kaya  8.8       275.0      0.281250\n",
       "Charizard    104       78  100      ateş  1.7         NaN           NaN"
      ]
     },
     "execution_count": 57,
     "metadata": {},
     "output_type": "execute_result"
    }
   ],
   "source": [
    "pokemon.append(pd.Series({\n",
    "    \"atak\": 104,\n",
    "    \"savunma\": 78,\n",
    "    \"tür\": \"ateş\",\n",
    "    \"hız\": 100,\n",
    "    \"boy\": 1.7\n",
    "}, name=\"Charizard\"))"
   ]
  },
  {
   "cell_type": "code",
   "execution_count": null,
   "id": "57f203e4",
   "metadata": {},
   "outputs": [],
   "source": [
    "Charizard = pd.DataFrame({\n",
    "    \"atak\": [104],\n",
    "    \"savunma\": [78],\n",
    "    \"tür\": [\"ateş\"],\n",
    "    \"hız\": [100],\n",
    "    \"boy\": [1.7]},\n",
    "    index=[\"Charizard\"])"
   ]
  },
  {
   "cell_type": "code",
   "execution_count": null,
   "id": "1a9d2098",
   "metadata": {},
   "outputs": [],
   "source": [
    "pd.concat([pokemon,Charizard])"
   ]
  },
  {
   "cell_type": "markdown",
   "id": "091ce098",
   "metadata": {},
   "source": [
    "### Sütunları kullanarak yeni bir sütun oluşturma\n",
    "* Örneğin; atak, savunma ve hız değerlerini toplayıp \"toplam güç\" adında bir sütuna yazabiliriz:"
   ]
  },
  {
   "cell_type": "code",
   "execution_count": 44,
   "id": "71725cd7",
   "metadata": {},
   "outputs": [
    {
     "data": {
      "text/html": [
       "<div>\n",
       "<style scoped>\n",
       "    .dataframe tbody tr th:only-of-type {\n",
       "        vertical-align: middle;\n",
       "    }\n",
       "\n",
       "    .dataframe tbody tr th {\n",
       "        vertical-align: top;\n",
       "    }\n",
       "\n",
       "    .dataframe thead th {\n",
       "        text-align: right;\n",
       "    }\n",
       "</style>\n",
       "<table border=\"1\" class=\"dataframe\">\n",
       "  <thead>\n",
       "    <tr style=\"text-align: right;\">\n",
       "      <th></th>\n",
       "      <th>atak</th>\n",
       "      <th>savunma</th>\n",
       "      <th>hız</th>\n",
       "      <th>tür</th>\n",
       "      <th>boy</th>\n",
       "      <th>toplam güç</th>\n",
       "    </tr>\n",
       "  </thead>\n",
       "  <tbody>\n",
       "    <tr>\n",
       "      <th>Bulbasaur</th>\n",
       "      <td>49</td>\n",
       "      <td>49</td>\n",
       "      <td>45</td>\n",
       "      <td>ot</td>\n",
       "      <td>0.7</td>\n",
       "      <td>143</td>\n",
       "    </tr>\n",
       "    <tr>\n",
       "      <th>Charmander</th>\n",
       "      <td>52</td>\n",
       "      <td>43</td>\n",
       "      <td>65</td>\n",
       "      <td>ateş</td>\n",
       "      <td>0.6</td>\n",
       "      <td>160</td>\n",
       "    </tr>\n",
       "    <tr>\n",
       "      <th>Squirtle</th>\n",
       "      <td>48</td>\n",
       "      <td>65</td>\n",
       "      <td>43</td>\n",
       "      <td>su</td>\n",
       "      <td>0.5</td>\n",
       "      <td>156</td>\n",
       "    </tr>\n",
       "    <tr>\n",
       "      <th>Pikachu</th>\n",
       "      <td>55</td>\n",
       "      <td>40</td>\n",
       "      <td>90</td>\n",
       "      <td>elektrik</td>\n",
       "      <td>0.4</td>\n",
       "      <td>185</td>\n",
       "    </tr>\n",
       "    <tr>\n",
       "      <th>Onix</th>\n",
       "      <td>45</td>\n",
       "      <td>160</td>\n",
       "      <td>70</td>\n",
       "      <td>kaya</td>\n",
       "      <td>8.8</td>\n",
       "      <td>275</td>\n",
       "    </tr>\n",
       "  </tbody>\n",
       "</table>\n",
       "</div>"
      ],
      "text/plain": [
       "            atak  savunma  hız       tür  boy  toplam güç\n",
       "Bulbasaur     49       49   45        ot  0.7         143\n",
       "Charmander    52       43   65      ateş  0.6         160\n",
       "Squirtle      48       65   43        su  0.5         156\n",
       "Pikachu       55       40   90  elektrik  0.4         185\n",
       "Onix          45      160   70      kaya  8.8         275"
      ]
     },
     "execution_count": 44,
     "metadata": {},
     "output_type": "execute_result"
    }
   ],
   "source": [
    "# sütunu oluşturalım\n",
    "pokemon[\"toplam güç\"] = pokemon[\"atak\"] + pokemon[\"savunma\"] + pokemon[\"hız\"]\n",
    "# dataframe'i yazdıralım\n",
    "pokemon"
   ]
  },
  {
   "cell_type": "markdown",
   "id": "664a8229",
   "metadata": {},
   "source": [
    "* Ya da \"atak/savunma\" oranını yani bir pokemonun ne kadar atak yapmaya yönelik olduğunu (saldırganlık) bulabiliriz:"
   ]
  },
  {
   "cell_type": "code",
   "execution_count": 45,
   "id": "c0f07513",
   "metadata": {},
   "outputs": [
    {
     "data": {
      "text/html": [
       "<div>\n",
       "<style scoped>\n",
       "    .dataframe tbody tr th:only-of-type {\n",
       "        vertical-align: middle;\n",
       "    }\n",
       "\n",
       "    .dataframe tbody tr th {\n",
       "        vertical-align: top;\n",
       "    }\n",
       "\n",
       "    .dataframe thead th {\n",
       "        text-align: right;\n",
       "    }\n",
       "</style>\n",
       "<table border=\"1\" class=\"dataframe\">\n",
       "  <thead>\n",
       "    <tr style=\"text-align: right;\">\n",
       "      <th></th>\n",
       "      <th>atak</th>\n",
       "      <th>savunma</th>\n",
       "      <th>hız</th>\n",
       "      <th>tür</th>\n",
       "      <th>boy</th>\n",
       "      <th>toplam güç</th>\n",
       "      <th>saldırganlık</th>\n",
       "    </tr>\n",
       "  </thead>\n",
       "  <tbody>\n",
       "    <tr>\n",
       "      <th>Bulbasaur</th>\n",
       "      <td>49</td>\n",
       "      <td>49</td>\n",
       "      <td>45</td>\n",
       "      <td>ot</td>\n",
       "      <td>0.7</td>\n",
       "      <td>143</td>\n",
       "      <td>1.000000</td>\n",
       "    </tr>\n",
       "    <tr>\n",
       "      <th>Charmander</th>\n",
       "      <td>52</td>\n",
       "      <td>43</td>\n",
       "      <td>65</td>\n",
       "      <td>ateş</td>\n",
       "      <td>0.6</td>\n",
       "      <td>160</td>\n",
       "      <td>1.209302</td>\n",
       "    </tr>\n",
       "    <tr>\n",
       "      <th>Squirtle</th>\n",
       "      <td>48</td>\n",
       "      <td>65</td>\n",
       "      <td>43</td>\n",
       "      <td>su</td>\n",
       "      <td>0.5</td>\n",
       "      <td>156</td>\n",
       "      <td>0.738462</td>\n",
       "    </tr>\n",
       "    <tr>\n",
       "      <th>Pikachu</th>\n",
       "      <td>55</td>\n",
       "      <td>40</td>\n",
       "      <td>90</td>\n",
       "      <td>elektrik</td>\n",
       "      <td>0.4</td>\n",
       "      <td>185</td>\n",
       "      <td>1.375000</td>\n",
       "    </tr>\n",
       "    <tr>\n",
       "      <th>Onix</th>\n",
       "      <td>45</td>\n",
       "      <td>160</td>\n",
       "      <td>70</td>\n",
       "      <td>kaya</td>\n",
       "      <td>8.8</td>\n",
       "      <td>275</td>\n",
       "      <td>0.281250</td>\n",
       "    </tr>\n",
       "  </tbody>\n",
       "</table>\n",
       "</div>"
      ],
      "text/plain": [
       "            atak  savunma  hız       tür  boy  toplam güç  saldırganlık\n",
       "Bulbasaur     49       49   45        ot  0.7         143      1.000000\n",
       "Charmander    52       43   65      ateş  0.6         160      1.209302\n",
       "Squirtle      48       65   43        su  0.5         156      0.738462\n",
       "Pikachu       55       40   90  elektrik  0.4         185      1.375000\n",
       "Onix          45      160   70      kaya  8.8         275      0.281250"
      ]
     },
     "execution_count": 45,
     "metadata": {},
     "output_type": "execute_result"
    }
   ],
   "source": [
    "# sütunu ekleyelim\n",
    "pokemon[\"saldırganlık\"] = pokemon[\"atak\"] / pokemon[\"savunma\"]\n",
    "\n",
    "# dataframe'i yazdıralım\n",
    "pokemon"
   ]
  },
  {
   "cell_type": "markdown",
   "id": "3f053660",
   "metadata": {},
   "source": [
    "* Şu anda yaptığımız işlem, veri analizi için önemli bir işlemdi. Pokemonların atak/savunma oranları bize önemli bir bilgi veriyor. Saldırganlık değerlerine baktığımızda en az saldırgan olan pokemonun Onix olduğunu görüyoruz ki bu pokemon kaya türü olan ve tam bir savunma pokemonu. Squirtle da kaplumbağaya benzeyen bir pokemon ve savunmaya meyilli. Atak pokemonları olarak ise Charmander'ı ve özellikle Pikachu'yu görüyoruz. Evet, Pikachu'nun atağı güçlü ancak savunması zayıf."
   ]
  },
  {
   "cell_type": "markdown",
   "id": "d1197dec",
   "metadata": {},
   "source": [
    "### İstatistiksel bilgi edinmek\n",
    "* NumPy array'lerde yapabileceğimiz istatistiksel hesaplamaları aynı şekilde dataframe ya da serilerde de yapabiliriz. Önceden gördüğümüz gibi \".describe()\" metodu ile sayısal sütunların istatistiksel bilgisini edinebiliriz."
   ]
  },
  {
   "cell_type": "markdown",
   "id": "2d80e6a3",
   "metadata": {},
   "source": [
    "### Dışarıdan Veri Okuma\n",
    "* Pandas kullanarak CSV, Excel, JSON gibi dosyaları okuyabilir ve dataframe'lere yükleyebiliriz. Pandas ile en çok CSV dosyaları kullanılır. \"Comma Separated Values\" yani \"virgül ile ayrılmış değerler\" anlamına gelir. Verideki her değer birer virgül ile, her satır ise birer satır sonu ile ayrılmıştır. Örneğin; aşağıda bitcoin'in zamana göre değerlerini içeren bir CSV verisi örneği var:"
   ]
  },
  {
   "cell_type": "markdown",
   "id": "59ea0ea5",
   "metadata": {},
   "source": [
    "* 2017-04-02 00:00:00,1099.169125\n",
    "* 2017-04-03 00:00:00,1141.813"
   ]
  },
  {
   "cell_type": "markdown",
   "id": "6014cef0",
   "metadata": {},
   "source": [
    "* Bazı CSV verilerinde ilk satırda sütunların hangi bilgileri içerdiği yazabilir:"
   ]
  },
  {
   "cell_type": "markdown",
   "id": "ee3f07d0",
   "metadata": {},
   "source": [
    "* zaman,değer\n",
    "* 2017-04-02 00:00:00,1099.169125\n",
    "* 2017-04-03 00:00:00,1141.813"
   ]
  },
  {
   "cell_type": "markdown",
   "id": "ed9a9abc",
   "metadata": {},
   "source": [
    "* Biz \"btc-market-price.csv\" adlı zamana bağlı bitcoin fiyatlarını gösteren bir veriyi inceleyeceğiz.\n",
    "* Dosyanın konumunu \"pd.read_csv\" fonksiyonuna parametre olarak girerek CSV dosyasını bir Dataframe şeklinde okuyabiliriz:"
   ]
  },
  {
   "cell_type": "code",
   "execution_count": 46,
   "id": "225f9405",
   "metadata": {},
   "outputs": [],
   "source": [
    "# veriyi okuyalım\n",
    "df = pd.read_csv('btc-market-price.csv')"
   ]
  },
  {
   "cell_type": "code",
   "execution_count": 47,
   "id": "7b8aee2e",
   "metadata": {},
   "outputs": [
    {
     "data": {
      "text/html": [
       "<div>\n",
       "<style scoped>\n",
       "    .dataframe tbody tr th:only-of-type {\n",
       "        vertical-align: middle;\n",
       "    }\n",
       "\n",
       "    .dataframe tbody tr th {\n",
       "        vertical-align: top;\n",
       "    }\n",
       "\n",
       "    .dataframe thead th {\n",
       "        text-align: right;\n",
       "    }\n",
       "</style>\n",
       "<table border=\"1\" class=\"dataframe\">\n",
       "  <thead>\n",
       "    <tr style=\"text-align: right;\">\n",
       "      <th></th>\n",
       "      <th>2017-04-02 00:00:00</th>\n",
       "      <th>1099.169125</th>\n",
       "    </tr>\n",
       "  </thead>\n",
       "  <tbody>\n",
       "    <tr>\n",
       "      <th>0</th>\n",
       "      <td>2017-04-03 00:00:00</td>\n",
       "      <td>1141.813000</td>\n",
       "    </tr>\n",
       "    <tr>\n",
       "      <th>1</th>\n",
       "      <td>2017-04-04 00:00:00</td>\n",
       "      <td>1141.600363</td>\n",
       "    </tr>\n",
       "    <tr>\n",
       "      <th>2</th>\n",
       "      <td>2017-04-05 00:00:00</td>\n",
       "      <td>1133.079314</td>\n",
       "    </tr>\n",
       "    <tr>\n",
       "      <th>3</th>\n",
       "      <td>2017-04-06 00:00:00</td>\n",
       "      <td>1196.307937</td>\n",
       "    </tr>\n",
       "    <tr>\n",
       "      <th>4</th>\n",
       "      <td>2017-04-07 00:00:00</td>\n",
       "      <td>1190.454250</td>\n",
       "    </tr>\n",
       "  </tbody>\n",
       "</table>\n",
       "</div>"
      ],
      "text/plain": [
       "   2017-04-02 00:00:00  1099.169125\n",
       "0  2017-04-03 00:00:00  1141.813000\n",
       "1  2017-04-04 00:00:00  1141.600363\n",
       "2  2017-04-05 00:00:00  1133.079314\n",
       "3  2017-04-06 00:00:00  1196.307937\n",
       "4  2017-04-07 00:00:00  1190.454250"
      ]
     },
     "execution_count": 47,
     "metadata": {},
     "output_type": "execute_result"
    }
   ],
   "source": [
    "# verinin ilk 5 satırını yazdıralım\n",
    "df.head()"
   ]
  },
  {
   "cell_type": "markdown",
   "id": "be0b6f25",
   "metadata": {},
   "source": [
    "* Veriyi okuduk, her satıra birer indeks verildi ancak bu veride ilk satırda sütun isimleri yoktu. Yukarıda ilk satırın sütun isimleri olarak alındığını görebiliriz. Bunu şöyle düzeltebiliriz:"
   ]
  },
  {
   "cell_type": "code",
   "execution_count": 48,
   "id": "3f89fb2f",
   "metadata": {},
   "outputs": [],
   "source": [
    "# sütun isimleri olmayan veriyi okuyalım\n",
    "df = pd.read_csv('btc-market-price.csv', header=None)"
   ]
  },
  {
   "cell_type": "code",
   "execution_count": 49,
   "id": "4c97d328",
   "metadata": {},
   "outputs": [],
   "source": [
    "# sütun isimlerini kendimiz verelim\n",
    "df.columns = [\"zaman\", \"değer\"]"
   ]
  },
  {
   "cell_type": "code",
   "execution_count": 50,
   "id": "43a31326",
   "metadata": {},
   "outputs": [
    {
     "data": {
      "text/html": [
       "<div>\n",
       "<style scoped>\n",
       "    .dataframe tbody tr th:only-of-type {\n",
       "        vertical-align: middle;\n",
       "    }\n",
       "\n",
       "    .dataframe tbody tr th {\n",
       "        vertical-align: top;\n",
       "    }\n",
       "\n",
       "    .dataframe thead th {\n",
       "        text-align: right;\n",
       "    }\n",
       "</style>\n",
       "<table border=\"1\" class=\"dataframe\">\n",
       "  <thead>\n",
       "    <tr style=\"text-align: right;\">\n",
       "      <th></th>\n",
       "      <th>zaman</th>\n",
       "      <th>değer</th>\n",
       "    </tr>\n",
       "  </thead>\n",
       "  <tbody>\n",
       "    <tr>\n",
       "      <th>0</th>\n",
       "      <td>2017-04-02 00:00:00</td>\n",
       "      <td>1099.169125</td>\n",
       "    </tr>\n",
       "    <tr>\n",
       "      <th>1</th>\n",
       "      <td>2017-04-03 00:00:00</td>\n",
       "      <td>1141.813000</td>\n",
       "    </tr>\n",
       "    <tr>\n",
       "      <th>2</th>\n",
       "      <td>2017-04-04 00:00:00</td>\n",
       "      <td>1141.600363</td>\n",
       "    </tr>\n",
       "    <tr>\n",
       "      <th>3</th>\n",
       "      <td>2017-04-05 00:00:00</td>\n",
       "      <td>1133.079314</td>\n",
       "    </tr>\n",
       "    <tr>\n",
       "      <th>4</th>\n",
       "      <td>2017-04-06 00:00:00</td>\n",
       "      <td>1196.307937</td>\n",
       "    </tr>\n",
       "  </tbody>\n",
       "</table>\n",
       "</div>"
      ],
      "text/plain": [
       "                 zaman        değer\n",
       "0  2017-04-02 00:00:00  1099.169125\n",
       "1  2017-04-03 00:00:00  1141.813000\n",
       "2  2017-04-04 00:00:00  1141.600363\n",
       "3  2017-04-05 00:00:00  1133.079314\n",
       "4  2017-04-06 00:00:00  1196.307937"
      ]
     },
     "execution_count": 50,
     "metadata": {},
     "output_type": "execute_result"
    }
   ],
   "source": [
    "# # verinin ilk 5 satırını yazdıralım\n",
    "df.head()"
   ]
  },
  {
   "cell_type": "markdown",
   "id": "8649a674",
   "metadata": {},
   "source": [
    "* Zaman değerlerini string olarak değil de Datetime objesi şeklinde kullanabiliriz. \"pd.to_datetime\" metodu ile Datetime'a yani zaman objesine dönüştürebiliriz:"
   ]
  },
  {
   "cell_type": "code",
   "execution_count": 51,
   "id": "5029e9bc",
   "metadata": {},
   "outputs": [],
   "source": [
    "# dönüştürelim\n",
    "df[\"zaman\"] = pd.to_datetime(df[\"zaman\"])"
   ]
  },
  {
   "cell_type": "code",
   "execution_count": 52,
   "id": "2a34209a",
   "metadata": {},
   "outputs": [
    {
     "data": {
      "text/plain": [
       "0   2017-04-02\n",
       "1   2017-04-03\n",
       "2   2017-04-04\n",
       "3   2017-04-05\n",
       "4   2017-04-06\n",
       "Name: zaman, dtype: datetime64[ns]"
      ]
     },
     "execution_count": 52,
     "metadata": {},
     "output_type": "execute_result"
    }
   ],
   "source": [
    "# zaman değerlerini yazdıralım\n",
    "df[\"zaman\"].head()"
   ]
  },
  {
   "cell_type": "markdown",
   "id": "be9773e2",
   "metadata": {},
   "source": [
    "* Dataframe'in indeksini zaman değerleri yaparsak daha etkin bir şekilde kullanabiliriz:"
   ]
  },
  {
   "cell_type": "code",
   "execution_count": 53,
   "id": "6732c7db",
   "metadata": {},
   "outputs": [],
   "source": [
    "# indeksi değiştirelim\n",
    "df.set_index(\"zaman\", inplace=True)"
   ]
  },
  {
   "cell_type": "code",
   "execution_count": 54,
   "id": "ce62cb5d",
   "metadata": {},
   "outputs": [
    {
     "data": {
      "text/html": [
       "<div>\n",
       "<style scoped>\n",
       "    .dataframe tbody tr th:only-of-type {\n",
       "        vertical-align: middle;\n",
       "    }\n",
       "\n",
       "    .dataframe tbody tr th {\n",
       "        vertical-align: top;\n",
       "    }\n",
       "\n",
       "    .dataframe thead th {\n",
       "        text-align: right;\n",
       "    }\n",
       "</style>\n",
       "<table border=\"1\" class=\"dataframe\">\n",
       "  <thead>\n",
       "    <tr style=\"text-align: right;\">\n",
       "      <th></th>\n",
       "      <th>değer</th>\n",
       "    </tr>\n",
       "    <tr>\n",
       "      <th>zaman</th>\n",
       "      <th></th>\n",
       "    </tr>\n",
       "  </thead>\n",
       "  <tbody>\n",
       "    <tr>\n",
       "      <th>2017-04-02</th>\n",
       "      <td>1099.169125</td>\n",
       "    </tr>\n",
       "    <tr>\n",
       "      <th>2017-04-03</th>\n",
       "      <td>1141.813000</td>\n",
       "    </tr>\n",
       "    <tr>\n",
       "      <th>2017-04-04</th>\n",
       "      <td>1141.600363</td>\n",
       "    </tr>\n",
       "    <tr>\n",
       "      <th>2017-04-05</th>\n",
       "      <td>1133.079314</td>\n",
       "    </tr>\n",
       "    <tr>\n",
       "      <th>2017-04-06</th>\n",
       "      <td>1196.307937</td>\n",
       "    </tr>\n",
       "  </tbody>\n",
       "</table>\n",
       "</div>"
      ],
      "text/plain": [
       "                  değer\n",
       "zaman                  \n",
       "2017-04-02  1099.169125\n",
       "2017-04-03  1141.813000\n",
       "2017-04-04  1141.600363\n",
       "2017-04-05  1133.079314\n",
       "2017-04-06  1196.307937"
      ]
     },
     "execution_count": 54,
     "metadata": {},
     "output_type": "execute_result"
    }
   ],
   "source": [
    "# veriyi yazdıralım\n",
    "df.head()"
   ]
  },
  {
   "cell_type": "markdown",
   "id": "56ddf626",
   "metadata": {},
   "source": [
    "* İstediğimiz zamandaki değeri \".loc\" metodu ile bulabiliriz:"
   ]
  },
  {
   "cell_type": "code",
   "execution_count": 55,
   "id": "71e58cb1",
   "metadata": {},
   "outputs": [
    {
     "data": {
      "text/plain": [
       "değer    1141.600363\n",
       "Name: 2017-04-04 00:00:00, dtype: float64"
      ]
     },
     "execution_count": 55,
     "metadata": {},
     "output_type": "execute_result"
    }
   ],
   "source": [
    "df.loc[\"2017-04-04\"]"
   ]
  },
  {
   "cell_type": "markdown",
   "id": "c9f40126",
   "metadata": {},
   "source": [
    "### Veriyi Görselleştirme\n",
    "* Pandas, Matplotlib ile entegredir ve görselleştirmeyi kolaylaştırır. Örneğin, zamana göre bitcoin değerlerini çizgi grafiği olarak gösterelim:"
   ]
  },
  {
   "cell_type": "code",
   "execution_count": 56,
   "id": "cca0168f",
   "metadata": {},
   "outputs": [
    {
     "data": {
      "text/plain": [
       "<AxesSubplot: xlabel='zaman'>"
      ]
     },
     "execution_count": 56,
     "metadata": {},
     "output_type": "execute_result"
    },
    {
     "data": {
      "image/png": "[encoded data removed]",
      "text/plain": [
       "<Figure size 432x288 with 1 Axes>"
      ]
     },
     "metadata": {
      "needs_background": "light"
     },
     "output_type": "display_data"
    }
   ],
   "source": [
    "df.plot()"
   ]
  },
  {
   "cell_type": "markdown",
   "id": "f2a7d531",
   "metadata": {},
   "source": [
    "* Gördüğümüz gibi kendisi grafiği çizdi ve zamanları da aylara ayırdı.\n",
    "* Matplotlib'in pyplot arayüzünü kullanarak da grafik çizebiliriz:"
   ]
  },
  {
   "cell_type": "code",
   "execution_count": 28,
   "id": "f4356c18",
   "metadata": {},
   "outputs": [
    {
     "data": {
      "text/plain": [
       "[<matplotlib.lines.Line2D at 0x26b356b3400>]"
      ]
     },
     "execution_count": 28,
     "metadata": {},
     "output_type": "execute_result"
    },
    {
     "data": {
      "image/png": "[encoded data removed]",
      "text/plain": [
       "<Figure size 432x288 with 1 Axes>"
      ]
     },
     "metadata": {
      "needs_background": "light"
     },
     "output_type": "display_data"
    }
   ],
   "source": [
    "# import etmediysek edelim\n",
    "import matplotlib.pyplot as plt\n",
    "\n",
    "# grafiği x ve y eksenlerindeki değerleri vererek çizdirelim\n",
    "plt.plot(df.index, df[\"değer\"])"
   ]
  },
  {
   "cell_type": "code",
   "execution_count": null,
   "id": "9af52c79",
   "metadata": {},
   "outputs": [],
   "source": []
  }
 ],
 "metadata": {
  "kernelspec": {
   "display_name": "Python 3 (ipykernel)",
   "language": "python",
   "name": "python3"
  },
  "language_info": {
   "codemirror_mode": {
    "name": "ipython",
    "version": 3
   },
   "file_extension": ".py",
   "mimetype": "text/x-python",
   "name": "python",
   "nbconvert_exporter": "python",
   "pygments_lexer": "ipython3",
   "version": "3.10.5"
  }
 },
 "nbformat": 4,
 "nbformat_minor": 5
}
