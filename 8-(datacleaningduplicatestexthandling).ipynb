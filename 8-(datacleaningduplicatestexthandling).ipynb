{
 "cells": [
  {
   "cell_type": "code",
   "execution_count": 1,
   "id": "efe8275c",
   "metadata": {},
   "outputs": [],
   "source": [
    "import pandas as pd\n",
    "import numpy as np"
   ]
  },
  {
   "cell_type": "markdown",
   "id": "26eb6850",
   "metadata": {},
   "source": [
    "# Veri Temizleme: Tekrarlanan Değerler ve Metin İşleme"
   ]
  },
  {
   "cell_type": "markdown",
   "id": "c07414d1",
   "metadata": {},
   "source": [
    "### Tekrarlanan Değerler (Duplicates)\n",
    "* Aşağıda elçilerin adlarının ve hangi ülkeyi temsil ettiklerinin bilgisinin olduğu bir seri var. Bu seride tekrarlanan değerler ile ilgili işlemler yapacağız:"
   ]
  },
  {
   "cell_type": "code",
   "execution_count": 2,
   "id": "45964e49",
   "metadata": {},
   "outputs": [
    {
     "data": {
      "text/plain": [
       "Gérard Araud                  France\n",
       "Kim Darroch           United Kingdom\n",
       "Peter Westmacott      United Kingdom\n",
       "Armando Varricchio             Italy\n",
       "Peter Wittig                 Germany\n",
       "Peter Ammon                  Germany\n",
       "Klaus Scharioth              Germany\n",
       "dtype: object"
      ]
     },
     "execution_count": 2,
     "metadata": {},
     "output_type": "execute_result"
    }
   ],
   "source": [
    "elciler = pd.Series([\n",
    "    'France',\n",
    "    'United Kingdom',\n",
    "    'United Kingdom',\n",
    "    'Italy',\n",
    "    'Germany',\n",
    "    'Germany',\n",
    "    'Germany',\n",
    "], index=[\n",
    "    'Gérard Araud',\n",
    "    'Kim Darroch',\n",
    "    'Peter Westmacott',\n",
    "    'Armando Varricchio',\n",
    "    'Peter Wittig',\n",
    "    'Peter Ammon',\n",
    "    'Klaus Scharioth '\n",
    "])\n",
    "\n",
    "# seriyi yazdıralım\n",
    "elciler"
   ]
  },
  {
   "cell_type": "markdown",
   "id": "8eda504a",
   "metadata": {},
   "source": [
    "* \"duplicated\" metodu bize tekrarlanan değerleri verir. Varsayılan olarak ilk karşılaşılan değerlerden sonra tekrarlanan değerleri bize verir. \"keep\" parametresine \"last\" değerini vererek en son değerden önce tekrarlanan değerleri göstermesini de isteyebiliriz:"
   ]
  },
  {
   "cell_type": "code",
   "execution_count": 3,
   "id": "dfaad65e",
   "metadata": {},
   "outputs": [
    {
     "data": {
      "text/plain": [
       "Gérard Araud          False\n",
       "Kim Darroch           False\n",
       "Peter Westmacott       True\n",
       "Armando Varricchio    False\n",
       "Peter Wittig          False\n",
       "Peter Ammon            True\n",
       "Klaus Scharioth        True\n",
       "dtype: bool"
      ]
     },
     "execution_count": 3,
     "metadata": {},
     "output_type": "execute_result"
    }
   ],
   "source": [
    "elciler.duplicated()"
   ]
  },
  {
   "cell_type": "code",
   "execution_count": 4,
   "id": "5f6e1afd",
   "metadata": {},
   "outputs": [
    {
     "data": {
      "text/plain": [
       "Gérard Araud          False\n",
       "Kim Darroch            True\n",
       "Peter Westmacott      False\n",
       "Armando Varricchio    False\n",
       "Peter Wittig           True\n",
       "Peter Ammon            True\n",
       "Klaus Scharioth       False\n",
       "dtype: bool"
      ]
     },
     "execution_count": 4,
     "metadata": {},
     "output_type": "execute_result"
    }
   ],
   "source": [
    "elciler.duplicated(keep=\"last\")"
   ]
  },
  {
   "cell_type": "markdown",
   "id": "67c31335",
   "metadata": {},
   "source": [
    "* \"keep\" parametresine False değerini verirsek bize tekrarlanan tüm değerleri verir (Örneğin; \"first\" değeri gibi sadece ilk değer dışındaki değerleri vermez):"
   ]
  },
  {
   "cell_type": "code",
   "execution_count": 5,
   "id": "a97a743d",
   "metadata": {},
   "outputs": [
    {
     "data": {
      "text/plain": [
       "Gérard Araud          False\n",
       "Kim Darroch            True\n",
       "Peter Westmacott       True\n",
       "Armando Varricchio    False\n",
       "Peter Wittig           True\n",
       "Peter Ammon            True\n",
       "Klaus Scharioth        True\n",
       "dtype: bool"
      ]
     },
     "execution_count": 5,
     "metadata": {},
     "output_type": "execute_result"
    }
   ],
   "source": [
    "elciler.duplicated(keep=False)"
   ]
  },
  {
   "cell_type": "markdown",
   "id": "3f697b12",
   "metadata": {},
   "source": [
    "* \"drop_duplicates\" metodu ile bu tekrarlanan değerleri silebiliriz. Aynı şekilde \"keep\" parametresine değerler atayabiliriz:"
   ]
  },
  {
   "cell_type": "code",
   "execution_count": 6,
   "id": "687ebbbb",
   "metadata": {},
   "outputs": [
    {
     "data": {
      "text/plain": [
       "Gérard Araud          France\n",
       "Armando Varricchio     Italy\n",
       "dtype: object"
      ]
     },
     "execution_count": 6,
     "metadata": {},
     "output_type": "execute_result"
    }
   ],
   "source": [
    "elciler.drop_duplicates(keep=False)"
   ]
  },
  {
   "cell_type": "markdown",
   "id": "e802bdfe",
   "metadata": {},
   "source": [
    "* \"keep\" parametresine \"first\" değerini verirsek tekrarlanan verilerin ilkleri dışındakileri siler:"
   ]
  },
  {
   "cell_type": "code",
   "execution_count": 7,
   "id": "f21b4501",
   "metadata": {},
   "outputs": [
    {
     "data": {
      "text/plain": [
       "Gérard Araud                  France\n",
       "Kim Darroch           United Kingdom\n",
       "Armando Varricchio             Italy\n",
       "Peter Wittig                 Germany\n",
       "dtype: object"
      ]
     },
     "execution_count": 7,
     "metadata": {},
     "output_type": "execute_result"
    }
   ],
   "source": [
    "elciler.drop_duplicates(keep=\"first\")"
   ]
  },
  {
   "cell_type": "markdown",
   "id": "a04665d6",
   "metadata": {},
   "source": [
    "### Metin İşleme\n",
    "* Metin verilerini yani \"string\" verilerini işlemek ve temizlemek zor olabilir. Çünkü metin verilerinde birçok yanlış ve tutarsızlık olabilir. Yanlış yazım, büyük harf küçük harf farkları, encoding tipleri, aynı değerin farklı şekillerde yazılabilmesi bu yanlış ve tutarsızlıklara örnektir. Örneğin; tarih yazarken \"24/12/2018\" de yazabiliriz \"24-12-2018\" de. Bu iki metnin belirttiği tarihler aynı ancak içerdiği bazı karakterler farklı. Bazı metin işleme örneklerini inceleyelim:\n",
    "\n",
    "### Sütunlara ayırma\n",
    "* Aşağıda anket sonuçlarının olduğu bir veri var. Bu veriyi Pandas Dataframe olarak yükleyelim:"
   ]
  },
  {
   "cell_type": "code",
   "execution_count": 8,
   "id": "7646b937",
   "metadata": {},
   "outputs": [],
   "source": [
    "df = pd.DataFrame({\n",
    "    'Veri': [\n",
    "        '1987_E_ABD _1',\n",
    "        '1990?_E_ING_1',\n",
    "        '1992_K_ABD_2',\n",
    "        '1970?_E_   IT_1',\n",
    "        '1985_K_I  T_2'\n",
    "]})"
   ]
  },
  {
   "cell_type": "markdown",
   "id": "0ed8b62e",
   "metadata": {},
   "source": [
    "* Bu verideki sütunların sırasıyla yıl, cinsiyet, ülke ve çocuk sayısı verilerini içerdiğini biliyoruz. Örneğin; \"E\" erkek, \"K\" kız anlamına geliyor. Bu bilgileri ayırıp farklı sütunlar haline getireceğiz. Pandas \"str\" arayüzü ile string metotlarını kullanmamızı sağlar. \"split\" metodunu kullanalım:"
   ]
  },
  {
   "cell_type": "code",
   "execution_count": 9,
   "id": "f8504554",
   "metadata": {},
   "outputs": [
    {
     "data": {
      "text/plain": [
       "0      [1987, E, ABD , 1]\n",
       "1      [1990?, E, ING, 1]\n",
       "2       [1992, K, ABD, 2]\n",
       "3    [1970?, E,    IT, 1]\n",
       "4      [1985, K, I  T, 2]\n",
       "Name: Veri, dtype: object"
      ]
     },
     "execution_count": 9,
     "metadata": {},
     "output_type": "execute_result"
    }
   ],
   "source": [
    "df[\"Veri\"].str.split(\"_\")"
   ]
  },
  {
   "cell_type": "markdown",
   "id": "8287c69a",
   "metadata": {},
   "source": [
    "* \"expand\" parametresini True yaparak parçalanan verileri sütunlara ayırabiliriz:"
   ]
  },
  {
   "cell_type": "code",
   "execution_count": 10,
   "id": "602b0dae",
   "metadata": {},
   "outputs": [
    {
     "data": {
      "text/html": [
       "<div>\n",
       "<style scoped>\n",
       "    .dataframe tbody tr th:only-of-type {\n",
       "        vertical-align: middle;\n",
       "    }\n",
       "\n",
       "    .dataframe tbody tr th {\n",
       "        vertical-align: top;\n",
       "    }\n",
       "\n",
       "    .dataframe thead th {\n",
       "        text-align: right;\n",
       "    }\n",
       "</style>\n",
       "<table border=\"1\" class=\"dataframe\">\n",
       "  <thead>\n",
       "    <tr style=\"text-align: right;\">\n",
       "      <th></th>\n",
       "      <th>0</th>\n",
       "      <th>1</th>\n",
       "      <th>2</th>\n",
       "      <th>3</th>\n",
       "    </tr>\n",
       "  </thead>\n",
       "  <tbody>\n",
       "    <tr>\n",
       "      <th>0</th>\n",
       "      <td>1987</td>\n",
       "      <td>E</td>\n",
       "      <td>ABD</td>\n",
       "      <td>1</td>\n",
       "    </tr>\n",
       "    <tr>\n",
       "      <th>1</th>\n",
       "      <td>1990?</td>\n",
       "      <td>E</td>\n",
       "      <td>ING</td>\n",
       "      <td>1</td>\n",
       "    </tr>\n",
       "    <tr>\n",
       "      <th>2</th>\n",
       "      <td>1992</td>\n",
       "      <td>K</td>\n",
       "      <td>ABD</td>\n",
       "      <td>2</td>\n",
       "    </tr>\n",
       "    <tr>\n",
       "      <th>3</th>\n",
       "      <td>1970?</td>\n",
       "      <td>E</td>\n",
       "      <td>IT</td>\n",
       "      <td>1</td>\n",
       "    </tr>\n",
       "    <tr>\n",
       "      <th>4</th>\n",
       "      <td>1985</td>\n",
       "      <td>K</td>\n",
       "      <td>I  T</td>\n",
       "      <td>2</td>\n",
       "    </tr>\n",
       "  </tbody>\n",
       "</table>\n",
       "</div>"
      ],
      "text/plain": [
       "       0  1      2  3\n",
       "0   1987  E   ABD   1\n",
       "1  1990?  E    ING  1\n",
       "2   1992  K    ABD  2\n",
       "3  1970?  E     IT  1\n",
       "4   1985  K   I  T  2"
      ]
     },
     "execution_count": 10,
     "metadata": {},
     "output_type": "execute_result"
    }
   ],
   "source": [
    "df[\"Veri\"].str.split(\"_\", expand=True)"
   ]
  },
  {
   "cell_type": "markdown",
   "id": "2d931f0c",
   "metadata": {},
   "source": [
    "* Bu işlemleri yapıp Dataframe'i değiştirelim ve sütun isimlerini de güncelleyelim:"
   ]
  },
  {
   "cell_type": "code",
   "execution_count": 11,
   "id": "a761d161",
   "metadata": {},
   "outputs": [],
   "source": [
    "# sütunlara ayıralım\n",
    "df = df[\"Veri\"].str.split(\"_\", expand=True)"
   ]
  },
  {
   "cell_type": "code",
   "execution_count": 12,
   "id": "db7cab3d",
   "metadata": {},
   "outputs": [],
   "source": [
    "# sütun isimlerini değiştirelim\n",
    "df.columns = [\"Yıl\", \"Cinsiyet\", \"Ülke\", \"Çocuk Sayısı\"]"
   ]
  },
  {
   "cell_type": "code",
   "execution_count": 13,
   "id": "4ef7d174",
   "metadata": {},
   "outputs": [
    {
     "data": {
      "text/html": [
       "<div>\n",
       "<style scoped>\n",
       "    .dataframe tbody tr th:only-of-type {\n",
       "        vertical-align: middle;\n",
       "    }\n",
       "\n",
       "    .dataframe tbody tr th {\n",
       "        vertical-align: top;\n",
       "    }\n",
       "\n",
       "    .dataframe thead th {\n",
       "        text-align: right;\n",
       "    }\n",
       "</style>\n",
       "<table border=\"1\" class=\"dataframe\">\n",
       "  <thead>\n",
       "    <tr style=\"text-align: right;\">\n",
       "      <th></th>\n",
       "      <th>Yıl</th>\n",
       "      <th>Cinsiyet</th>\n",
       "      <th>Ülke</th>\n",
       "      <th>Çocuk Sayısı</th>\n",
       "    </tr>\n",
       "  </thead>\n",
       "  <tbody>\n",
       "    <tr>\n",
       "      <th>0</th>\n",
       "      <td>1987</td>\n",
       "      <td>E</td>\n",
       "      <td>ABD</td>\n",
       "      <td>1</td>\n",
       "    </tr>\n",
       "    <tr>\n",
       "      <th>1</th>\n",
       "      <td>1990?</td>\n",
       "      <td>E</td>\n",
       "      <td>ING</td>\n",
       "      <td>1</td>\n",
       "    </tr>\n",
       "    <tr>\n",
       "      <th>2</th>\n",
       "      <td>1992</td>\n",
       "      <td>K</td>\n",
       "      <td>ABD</td>\n",
       "      <td>2</td>\n",
       "    </tr>\n",
       "    <tr>\n",
       "      <th>3</th>\n",
       "      <td>1970?</td>\n",
       "      <td>E</td>\n",
       "      <td>IT</td>\n",
       "      <td>1</td>\n",
       "    </tr>\n",
       "    <tr>\n",
       "      <th>4</th>\n",
       "      <td>1985</td>\n",
       "      <td>K</td>\n",
       "      <td>I  T</td>\n",
       "      <td>2</td>\n",
       "    </tr>\n",
       "  </tbody>\n",
       "</table>\n",
       "</div>"
      ],
      "text/plain": [
       "     Yıl Cinsiyet   Ülke Çocuk Sayısı\n",
       "0   1987        E   ABD             1\n",
       "1  1990?        E    ING            1\n",
       "2   1992        K    ABD            2\n",
       "3  1970?        E     IT            1\n",
       "4   1985        K   I  T            2"
      ]
     },
     "execution_count": 13,
     "metadata": {},
     "output_type": "execute_result"
    }
   ],
   "source": [
    "# dataframe'i yazdıralım\n",
    "df"
   ]
  },
  {
   "cell_type": "markdown",
   "id": "1c1993a4",
   "metadata": {},
   "source": [
    "* Verilerde herhangi bir metin ya da karakter bulunuyor mu diye kontrol etmek için \"contains\" metodunu kullanabiliriz. Örneğin; soru işareti (?) içeren verilere bakalım:"
   ]
  },
  {
   "cell_type": "code",
   "execution_count": 14,
   "id": "17b8617b",
   "metadata": {},
   "outputs": [
    {
     "data": {
      "text/plain": [
       "0    False\n",
       "1     True\n",
       "2    False\n",
       "3     True\n",
       "4    False\n",
       "Name: Yıl, dtype: bool"
      ]
     },
     "execution_count": 14,
     "metadata": {},
     "output_type": "execute_result"
    }
   ],
   "source": [
    "df[\"Yıl\"].str.contains(\"\\?\")"
   ]
  },
  {
   "cell_type": "markdown",
   "id": "65537ede",
   "metadata": {},
   "source": [
    "* Burada soru işaretinden önce \"\" karakterini koyduk çünkü bu metot regex metni alıyor ve \"?\" karakterinin özel bir anlamı var. Bu özel anlamı baskılamak için \"\" karakteri koyduk. Burada iki tane yıl verisi \"?\" içeriyor, bu işaretleri silmemiz lazım. \"replace\" metodu ile bu işaretleri boş string (\"\") ile değiştirerek silebiliriz:"
   ]
  },
  {
   "cell_type": "code",
   "execution_count": 29,
   "id": "78cb102f",
   "metadata": {},
   "outputs": [],
   "source": [
    "# \"?\" karakterlerini silelim\n",
    "df[\"Yıl\"] = df[\"Yıl\"].str.replace(\"\\?\", \"\", regex=False)"
   ]
  },
  {
   "cell_type": "code",
   "execution_count": 30,
   "id": "b60491d0",
   "metadata": {},
   "outputs": [
    {
     "data": {
      "text/plain": [
       "0    1987\n",
       "1    1990\n",
       "2    1992\n",
       "3    1970\n",
       "4    1985\n",
       "Name: Yıl, dtype: object"
      ]
     },
     "execution_count": 30,
     "metadata": {},
     "output_type": "execute_result"
    }
   ],
   "source": [
    "# Yıl verilerini yazdıralım\n",
    "df[\"Yıl\"]"
   ]
  },
  {
   "cell_type": "markdown",
   "id": "6aacaaac",
   "metadata": {},
   "source": [
    "* Ülke isimlerindeki boşlukları (\" \") da kaldıralım:"
   ]
  },
  {
   "cell_type": "code",
   "execution_count": 23,
   "id": "7b1aa53d",
   "metadata": {},
   "outputs": [
    {
     "data": {
      "text/plain": [
       "0    ABD\n",
       "1    ING\n",
       "2    ABD\n",
       "3     IT\n",
       "4     IT\n",
       "Name: Ülke, dtype: object"
      ]
     },
     "execution_count": 23,
     "metadata": {},
     "output_type": "execute_result"
    }
   ],
   "source": [
    "# \" \" karakterlerini silelim\n",
    "df[\"Ülke\"] = df[\"Ülke\"].str.replace(\" \", \"\")\n",
    "\n",
    "# Ülke verilerini yazdıralım\n",
    "df[\"Ülke\"]"
   ]
  },
  {
   "cell_type": "markdown",
   "id": "1e181e8b",
   "metadata": {},
   "source": [
    "* Son olarak temizlenmiş olan tüm verimizi yazdıralım:"
   ]
  },
  {
   "cell_type": "code",
   "execution_count": 31,
   "id": "fc6224d6",
   "metadata": {},
   "outputs": [
    {
     "data": {
      "text/html": [
       "<div>\n",
       "<style scoped>\n",
       "    .dataframe tbody tr th:only-of-type {\n",
       "        vertical-align: middle;\n",
       "    }\n",
       "\n",
       "    .dataframe tbody tr th {\n",
       "        vertical-align: top;\n",
       "    }\n",
       "\n",
       "    .dataframe thead th {\n",
       "        text-align: right;\n",
       "    }\n",
       "</style>\n",
       "<table border=\"1\" class=\"dataframe\">\n",
       "  <thead>\n",
       "    <tr style=\"text-align: right;\">\n",
       "      <th></th>\n",
       "      <th>Yıl</th>\n",
       "      <th>Cinsiyet</th>\n",
       "      <th>Ülke</th>\n",
       "      <th>Çocuk Sayısı</th>\n",
       "    </tr>\n",
       "  </thead>\n",
       "  <tbody>\n",
       "    <tr>\n",
       "      <th>0</th>\n",
       "      <td>1987</td>\n",
       "      <td>E</td>\n",
       "      <td>ABD</td>\n",
       "      <td>1</td>\n",
       "    </tr>\n",
       "    <tr>\n",
       "      <th>1</th>\n",
       "      <td>1990</td>\n",
       "      <td>E</td>\n",
       "      <td>ING</td>\n",
       "      <td>1</td>\n",
       "    </tr>\n",
       "    <tr>\n",
       "      <th>2</th>\n",
       "      <td>1992</td>\n",
       "      <td>K</td>\n",
       "      <td>ABD</td>\n",
       "      <td>2</td>\n",
       "    </tr>\n",
       "    <tr>\n",
       "      <th>3</th>\n",
       "      <td>1970</td>\n",
       "      <td>E</td>\n",
       "      <td>IT</td>\n",
       "      <td>1</td>\n",
       "    </tr>\n",
       "    <tr>\n",
       "      <th>4</th>\n",
       "      <td>1985</td>\n",
       "      <td>K</td>\n",
       "      <td>IT</td>\n",
       "      <td>2</td>\n",
       "    </tr>\n",
       "  </tbody>\n",
       "</table>\n",
       "</div>"
      ],
      "text/plain": [
       "    Yıl Cinsiyet Ülke Çocuk Sayısı\n",
       "0  1987        E  ABD            1\n",
       "1  1990        E  ING            1\n",
       "2  1992        K  ABD            2\n",
       "3  1970        E   IT            1\n",
       "4  1985        K   IT            2"
      ]
     },
     "execution_count": 31,
     "metadata": {},
     "output_type": "execute_result"
    }
   ],
   "source": [
    "df"
   ]
  },
  {
   "cell_type": "code",
   "execution_count": null,
   "id": "f66faeab",
   "metadata": {},
   "outputs": [],
   "source": []
  }
 ],
 "metadata": {
  "kernelspec": {
   "display_name": "Python 3 (ipykernel)",
   "language": "python",
   "name": "python3"
  },
  "language_info": {
   "codemirror_mode": {
    "name": "ipython",
    "version": 3
   },
   "file_extension": ".py",
   "mimetype": "text/x-python",
   "name": "python",
   "nbconvert_exporter": "python",
   "pygments_lexer": "ipython3",
   "version": "3.10.5"
  }
 },
 "nbformat": 4,
 "nbformat_minor": 5
}
