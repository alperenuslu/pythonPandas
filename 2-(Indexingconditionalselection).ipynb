{
 "cells": [
  {
   "cell_type": "code",
   "execution_count": 1,
   "id": "70c70869",
   "metadata": {},
   "outputs": [],
   "source": [
    "import numpy as np\n",
    "import pandas as pd"
   ]
  },
  {
   "cell_type": "markdown",
   "id": "0bcf1e6f",
   "metadata": {},
   "source": [
    "# İndeksleme\n",
    "* Seri bir sözlük gibidir ve değerlerini bir NumPy array'de tutar. Sözlükte nasıl bir değere ulaşabiliyorsak seride de ulaşabiliriz. Pokemon serisini bir hatırlayalım."
   ]
  },
  {
   "cell_type": "code",
   "execution_count": 2,
   "id": "39064cce",
   "metadata": {},
   "outputs": [],
   "source": [
    "series = pd.Series({\n",
    "    'Bulbasaur': 49, \n",
    "    'Charmander': 43, \n",
    "    'Squirtle': 65, \n",
    "    'Pikachu': 40, \n",
    "    'Onix': 160\n",
    "    }, name=\"Pokemon Savunma Güçleri\")"
   ]
  },
  {
   "cell_type": "code",
   "execution_count": 3,
   "id": "5ba6d9df",
   "metadata": {},
   "outputs": [
    {
     "data": {
      "text/plain": [
       "Bulbasaur      49\n",
       "Charmander     43\n",
       "Squirtle       65\n",
       "Pikachu        40\n",
       "Onix          160\n",
       "Name: Pokemon Savunma Güçleri, dtype: int64"
      ]
     },
     "execution_count": 3,
     "metadata": {},
     "output_type": "execute_result"
    }
   ],
   "source": [
    "series"
   ]
  },
  {
   "cell_type": "markdown",
   "id": "376f8b17",
   "metadata": {},
   "source": [
    "* Örneğin, Pikachu'nun değerini yazdıralım."
   ]
  },
  {
   "cell_type": "code",
   "execution_count": 4,
   "id": "2fb8c5d1",
   "metadata": {},
   "outputs": [
    {
     "data": {
      "text/plain": [
       "40"
      ]
     },
     "execution_count": 4,
     "metadata": {},
     "output_type": "execute_result"
    }
   ],
   "source": [
    "series[\"Pikachu\"]"
   ]
  },
  {
   "cell_type": "markdown",
   "id": "fe5d0c31",
   "metadata": {},
   "source": [
    "* Ayrıca serinin \".iloc\" metodunu kullanarak değerlere sayısal indekslerini kullanarak da erişebiliriz."
   ]
  },
  {
   "cell_type": "code",
   "execution_count": 5,
   "id": "b5fb42c3",
   "metadata": {},
   "outputs": [
    {
     "data": {
      "text/plain": [
       "65"
      ]
     },
     "execution_count": 5,
     "metadata": {},
     "output_type": "execute_result"
    }
   ],
   "source": [
    "# 2 indeksli değere ulaşalım, arrayin 3. değeri\n",
    "series.iloc[2]"
   ]
  },
  {
   "cell_type": "code",
   "execution_count": 6,
   "id": "aa320912",
   "metadata": {},
   "outputs": [
    {
     "data": {
      "text/plain": [
       "160"
      ]
     },
     "execution_count": 6,
     "metadata": {},
     "output_type": "execute_result"
    }
   ],
   "source": [
    "# arrayin son değerine ulaşalım\n",
    "series.iloc[-1]"
   ]
  },
  {
   "cell_type": "markdown",
   "id": "49d8ab6e",
   "metadata": {},
   "source": [
    "* Birden çok indeks kullanarak da değerleri seçebiliriz (Bu bize başka bir Series döndürür)."
   ]
  },
  {
   "cell_type": "code",
   "execution_count": 7,
   "id": "667001e6",
   "metadata": {},
   "outputs": [
    {
     "data": {
      "text/plain": [
       "Bulbasaur     49\n",
       "Onix         160\n",
       "Name: Pokemon Savunma Güçleri, dtype: int64"
      ]
     },
     "execution_count": 7,
     "metadata": {},
     "output_type": "execute_result"
    }
   ],
   "source": [
    "series[[\"Bulbasaur\", \"Onix\"]]"
   ]
  },
  {
   "cell_type": "markdown",
   "id": "098e4ce1",
   "metadata": {},
   "source": [
    "* Aynı şekilde birden çok sayısal indeks seçebiliriz."
   ]
  },
  {
   "cell_type": "code",
   "execution_count": 9,
   "id": "42fdcba3",
   "metadata": {},
   "outputs": [
    {
     "data": {
      "text/plain": [
       "Charmander     43\n",
       "Onix          160\n",
       "Name: Pokemon Savunma Güçleri, dtype: int64"
      ]
     },
     "execution_count": 9,
     "metadata": {},
     "output_type": "execute_result"
    }
   ],
   "source": [
    "series[[1, 4]]"
   ]
  },
  {
   "cell_type": "markdown",
   "id": "dc2a6cf7",
   "metadata": {},
   "source": [
    "* Dilimleme yaparak yani başlangıç ve bitiş indekslerini belirterek de seçim yapabiliriz (Pandas'ta bitiş değeri de sonuca eklenir! Örneğin aşağıda Squirtle da dahildir.)"
   ]
  },
  {
   "cell_type": "code",
   "execution_count": 10,
   "id": "9fdba829",
   "metadata": {},
   "outputs": [
    {
     "data": {
      "text/plain": [
       "Bulbasaur     49\n",
       "Charmander    43\n",
       "Squirtle      65\n",
       "Name: Pokemon Savunma Güçleri, dtype: int64"
      ]
     },
     "execution_count": 10,
     "metadata": {},
     "output_type": "execute_result"
    }
   ],
   "source": [
    "series[\"Bulbasaur\": \"Squirtle\"]"
   ]
  },
  {
   "cell_type": "markdown",
   "id": "dd861009",
   "metadata": {},
   "source": [
    "### Koşullu Seçim\n",
    "* Serilerde, Numpy arraylerdeki gibi bir koşul ile boolean seçim yapabiliriz."
   ]
  },
  {
   "cell_type": "code",
   "execution_count": 11,
   "id": "39a54265",
   "metadata": {},
   "outputs": [
    {
     "data": {
      "text/plain": [
       "Bulbasaur      True\n",
       "Charmander    False\n",
       "Squirtle       True\n",
       "Pikachu       False\n",
       "Onix           True\n",
       "Name: Pokemon Savunma Güçleri, dtype: bool"
      ]
     },
     "execution_count": 11,
     "metadata": {},
     "output_type": "execute_result"
    }
   ],
   "source": [
    "series > 45"
   ]
  },
  {
   "cell_type": "markdown",
   "id": "01619ec8",
   "metadata": {},
   "source": [
    "* Boolean indeksleme de yapabiliriz."
   ]
  },
  {
   "cell_type": "code",
   "execution_count": 12,
   "id": "75b28d66",
   "metadata": {},
   "outputs": [
    {
     "data": {
      "text/plain": [
       "Bulbasaur     49\n",
       "Squirtle      65\n",
       "Onix         160\n",
       "Name: Pokemon Savunma Güçleri, dtype: int64"
      ]
     },
     "execution_count": 12,
     "metadata": {},
     "output_type": "execute_result"
    }
   ],
   "source": [
    "series[series > 45]"
   ]
  },
  {
   "cell_type": "markdown",
   "id": "60e3ec95",
   "metadata": {},
   "source": [
    "* Ortalamasını, standart sapmasını vb. Bulabiliriz. Numpy arraylerde yapabileceğimiz çoğu türlü işlemi yapabiliriz."
   ]
  },
  {
   "cell_type": "code",
   "execution_count": 13,
   "id": "a72d261c",
   "metadata": {},
   "outputs": [
    {
     "data": {
      "text/plain": [
       "71.4"
      ]
     },
     "execution_count": 13,
     "metadata": {},
     "output_type": "execute_result"
    }
   ],
   "source": [
    "series.mean()"
   ]
  },
  {
   "cell_type": "markdown",
   "id": "ef383a61",
   "metadata": {},
   "source": [
    "* Ortalamanın üstündeki değerleri seçelim."
   ]
  },
  {
   "cell_type": "code",
   "execution_count": 15,
   "id": "1e741322",
   "metadata": {},
   "outputs": [
    {
     "data": {
      "text/plain": [
       "Onix    160\n",
       "Name: Pokemon Savunma Güçleri, dtype: int64"
      ]
     },
     "execution_count": 15,
     "metadata": {},
     "output_type": "execute_result"
    }
   ],
   "source": [
    "series[series > series.mean()]"
   ]
  },
  {
   "cell_type": "markdown",
   "id": "6067320c",
   "metadata": {},
   "source": [
    "* İki koşulu parantezlere koyarak seçebiliriz."
   ]
  },
  {
   "cell_type": "code",
   "execution_count": 16,
   "id": "b681d518",
   "metadata": {},
   "outputs": [
    {
     "data": {
      "text/plain": [
       "Bulbasaur    49\n",
       "Squirtle     65\n",
       "Name: Pokemon Savunma Güçleri, dtype: int64"
      ]
     },
     "execution_count": 16,
     "metadata": {},
     "output_type": "execute_result"
    }
   ],
   "source": [
    "series[(series > 45) & (series < 100)]"
   ]
  },
  {
   "cell_type": "markdown",
   "id": "2aa6c192",
   "metadata": {},
   "source": [
    "# Serinin Değerlerini Değiştirme\n",
    "* Serileri istediğimiz gibi düzenleyebiliriz. İndeksi ile seçerek:"
   ]
  },
  {
   "cell_type": "code",
   "execution_count": 17,
   "id": "375d8be1",
   "metadata": {},
   "outputs": [],
   "source": [
    "series[\"Pikachu\"] = 70 # Pikachu'yu güçlendirdik"
   ]
  },
  {
   "cell_type": "code",
   "execution_count": 18,
   "id": "ba2e7ef9",
   "metadata": {},
   "outputs": [
    {
     "data": {
      "text/plain": [
       "70"
      ]
     },
     "execution_count": 18,
     "metadata": {},
     "output_type": "execute_result"
    }
   ],
   "source": [
    "series[\"Pikachu\"]"
   ]
  },
  {
   "cell_type": "markdown",
   "id": "28659da2",
   "metadata": {},
   "source": [
    "* 50'den yüksek olan değerleri 50 yapalım."
   ]
  },
  {
   "cell_type": "code",
   "execution_count": 19,
   "id": "cede0132",
   "metadata": {},
   "outputs": [],
   "source": [
    "series[series > 50] = 50"
   ]
  },
  {
   "cell_type": "code",
   "execution_count": 20,
   "id": "dbd45b38",
   "metadata": {},
   "outputs": [
    {
     "data": {
      "text/plain": [
       "Bulbasaur     49\n",
       "Charmander    43\n",
       "Squirtle      50\n",
       "Pikachu       50\n",
       "Onix          50\n",
       "Name: Pokemon Savunma Güçleri, dtype: int64"
      ]
     },
     "execution_count": 20,
     "metadata": {},
     "output_type": "execute_result"
    }
   ],
   "source": [
    "series"
   ]
  },
  {
   "cell_type": "markdown",
   "id": "ea80a522",
   "metadata": {},
   "source": [
    "* Orijinal seriyi tekrar oluşturalım."
   ]
  },
  {
   "cell_type": "code",
   "execution_count": 21,
   "id": "0f151509",
   "metadata": {},
   "outputs": [],
   "source": [
    "series = pd.Series({\n",
    "    'Bulbasaur': 49, \n",
    "    'Charmander': 43, \n",
    "    'Squirtle': 65, \n",
    "    'Pikachu': 40, \n",
    "    'Onix': 160\n",
    "    }, name=\"Pokemon Savunma Güçleri\")"
   ]
  },
  {
   "cell_type": "code",
   "execution_count": null,
   "id": "30e77353",
   "metadata": {},
   "outputs": [],
   "source": []
  }
 ],
 "metadata": {
  "kernelspec": {
   "display_name": "Python 3 (ipykernel)",
   "language": "python",
   "name": "python3"
  },
  "language_info": {
   "codemirror_mode": {
    "name": "ipython",
    "version": 3
   },
   "file_extension": ".py",
   "mimetype": "text/x-python",
   "name": "python",
   "nbconvert_exporter": "python",
   "pygments_lexer": "ipython3",
   "version": "3.10.5"
  }
 },
 "nbformat": 4,
 "nbformat_minor": 5
}
