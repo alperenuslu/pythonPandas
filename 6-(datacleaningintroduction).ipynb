{
 "cells": [
  {
   "cell_type": "markdown",
   "id": "63ab4b1a",
   "metadata": {},
   "source": [
    "# Veri Temizleme: Giriş ve NaN (Null, Boş) Değerler"
   ]
  },
  {
   "cell_type": "markdown",
   "id": "e3b6e04d",
   "metadata": {},
   "source": [
    "### NaN (Null, Boş) Değerler\n",
    "* Pandas ve NumPy'da bazen değerlerin \"NaN\" olduğunu görürüz. Peki bu değerler nedir? NaN değerler verinin boş olduğunda (orada veri olmadığında), geçersiz olduğunda görülen değerlerdir. Bu durum verinin gerçekten boş olmasından ya da teknik aksaklıklardan (verinin elde edilmesinde olan hatalardan, verinin elde edilirken bozulmasından) da kaynaklanabilir. Örneğin; bitcoin verisi bir zaman aralığı için elde edilememiş olabilir, bu durum da o zaman aralığındaki değerin NaN olmasına yol açabilir. Ya da bir ankette birisi yaş değerini negatif girmiş olabilir ve yaş değerini kontrol eden algoritma bu değeri NaN olarak kaydetmiş olabilir. <br>\n",
    "* Pandas'ta NaN değerlerle yapılabilen işlemlere bakalım. NumPy ve Pandas'ı import edelim: <br>"
   ]
  },
  {
   "cell_type": "code",
   "execution_count": 1,
   "id": "51fef0e4",
   "metadata": {},
   "outputs": [],
   "source": [
    "import numpy as np\n",
    "import pandas as pd"
   ]
  },
  {
   "cell_type": "markdown",
   "id": "bf009be3",
   "metadata": {},
   "source": [
    "* Python'da NaN değerini \"np.nan\" ya da \"None\" kullanarak gösterebiliriz. Pandas bize NaN değerleri kontrol etmek ve belirlemek için bazı fonksiyonlar sunar. Aşağıda örnekler verilmiştir: <br>"
   ]
  },
  {
   "cell_type": "code",
   "execution_count": 2,
   "id": "3331fa9a",
   "metadata": {},
   "outputs": [
    {
     "data": {
      "text/plain": [
       "True"
      ]
     },
     "execution_count": 2,
     "metadata": {},
     "output_type": "execute_result"
    }
   ],
   "source": [
    "# değer null mu diye kontrol ediyoruz\n",
    "value = np.nan\n",
    "pd.isnull(value)\n",
    "# aynı şekilde \"pd.isna\" metodunu da kullanabiliriz"
   ]
  },
  {
   "cell_type": "markdown",
   "id": "32d225fa",
   "metadata": {},
   "source": [
    "* Bu işlemlerin tersi ise şu fonksiyonlarla yapılabilir: <br>"
   ]
  },
  {
   "cell_type": "code",
   "execution_count": 3,
   "id": "e0397eda",
   "metadata": {},
   "outputs": [
    {
     "data": {
      "text/plain": [
       "False"
      ]
     },
     "execution_count": 3,
     "metadata": {},
     "output_type": "execute_result"
    }
   ],
   "source": [
    "# değer null değil mi diye kontrol ediyoruz\n",
    "value = None\n",
    "pd.notnull(value)\n",
    "# aynı şekilde \"pd.notna\" metodunu da kullanabiliriz"
   ]
  },
  {
   "cell_type": "markdown",
   "id": "e8821268",
   "metadata": {},
   "source": [
    "* Bu fonksiyonlar Seri ve Dataframe'lerde de çalışır: <br>"
   ]
  },
  {
   "cell_type": "code",
   "execution_count": 4,
   "id": "d491546d",
   "metadata": {},
   "outputs": [
    {
     "data": {
      "text/plain": [
       "0     True\n",
       "1    False\n",
       "2     True\n",
       "3    False\n",
       "dtype: bool"
      ]
     },
     "execution_count": 4,
     "metadata": {},
     "output_type": "execute_result"
    }
   ],
   "source": [
    "# serilerde kontrol edersek fonksiyon da seri döndürür\n",
    "pd.isnull(pd.Series([None, 2, np.nan, \"\"]))"
   ]
  },
  {
   "cell_type": "markdown",
   "id": "edbd91dd",
   "metadata": {},
   "source": [
    "* Dataframe kullanırsak: <br>"
   ]
  },
  {
   "cell_type": "code",
   "execution_count": 5,
   "id": "4b149c8c",
   "metadata": {},
   "outputs": [
    {
     "data": {
      "text/html": [
       "<div>\n",
       "<style scoped>\n",
       "    .dataframe tbody tr th:only-of-type {\n",
       "        vertical-align: middle;\n",
       "    }\n",
       "\n",
       "    .dataframe tbody tr th {\n",
       "        vertical-align: top;\n",
       "    }\n",
       "\n",
       "    .dataframe thead th {\n",
       "        text-align: right;\n",
       "    }\n",
       "</style>\n",
       "<table border=\"1\" class=\"dataframe\">\n",
       "  <thead>\n",
       "    <tr style=\"text-align: right;\">\n",
       "      <th></th>\n",
       "      <th>Sütun A</th>\n",
       "      <th>Sütun B</th>\n",
       "    </tr>\n",
       "  </thead>\n",
       "  <tbody>\n",
       "    <tr>\n",
       "      <th>0</th>\n",
       "      <td>False</td>\n",
       "      <td>True</td>\n",
       "    </tr>\n",
       "    <tr>\n",
       "      <th>1</th>\n",
       "      <td>True</td>\n",
       "      <td>False</td>\n",
       "    </tr>\n",
       "    <tr>\n",
       "      <th>2</th>\n",
       "      <td>False</td>\n",
       "      <td>True</td>\n",
       "    </tr>\n",
       "  </tbody>\n",
       "</table>\n",
       "</div>"
      ],
      "text/plain": [
       "   Sütun A  Sütun B\n",
       "0    False     True\n",
       "1     True    False\n",
       "2    False     True"
      ]
     },
     "execution_count": 5,
     "metadata": {},
     "output_type": "execute_result"
    }
   ],
   "source": [
    "pd.isnull(pd.DataFrame({\n",
    "    'Sütun A': [1, np.nan, 7],\n",
    "    'Sütun B': [np.nan, 2, np.nan]\n",
    "}))"
   ]
  },
  {
   "cell_type": "markdown",
   "id": "6da184ed",
   "metadata": {},
   "source": [
    "### Pandas ile NaN değerlerde işlem yapma\n",
    "* Eğer bir matematiksel işlem yapıyorsak Pandas NaN değerleri görmezden gelir ve işlemde hata vermez. <br>"
   ]
  },
  {
   "cell_type": "code",
   "execution_count": 6,
   "id": "39fe39c5",
   "metadata": {},
   "outputs": [
    {
     "data": {
      "text/plain": [
       "3.0"
      ]
     },
     "execution_count": 6,
     "metadata": {},
     "output_type": "execute_result"
    }
   ],
   "source": [
    "pd.Series([1, 2, np.nan]).sum()"
   ]
  },
  {
   "cell_type": "markdown",
   "id": "f8c36028",
   "metadata": {},
   "source": [
    "### Boş (Null) verileri filtreleme\n",
    "* Pandas ile önce boş değerleri bularak sonra da boolean filtreleme yaparak boş değerleri filtreleyebiliriz: <br>"
   ]
  },
  {
   "cell_type": "code",
   "execution_count": 8,
   "id": "bd6a6f6e",
   "metadata": {},
   "outputs": [
    {
     "data": {
      "text/plain": [
       "0    1.0\n",
       "1    2.0\n",
       "3    4.0\n",
       "dtype: float64"
      ]
     },
     "execution_count": 8,
     "metadata": {},
     "output_type": "execute_result"
    }
   ],
   "source": [
    "s = pd.Series([1, 2, np.nan, 4, np.nan])\n",
    "# null olmayan değerleri alalım ve bu değerleri filtreleyelim\n",
    "s[pd.notnull(s)]"
   ]
  },
  {
   "cell_type": "markdown",
   "id": "3d4afbe2",
   "metadata": {},
   "source": [
    "### Boş verileri silme\n",
    "* Pandas bize \"dropna\" adlı metodu ile kolayca boş verilerden kurtulmayı sağlar: <br>"
   ]
  },
  {
   "cell_type": "code",
   "execution_count": 9,
   "id": "1d871cdf",
   "metadata": {},
   "outputs": [
    {
     "data": {
      "text/plain": [
       "0    1.0\n",
       "1    2.0\n",
       "3    4.0\n",
       "dtype: float64"
      ]
     },
     "execution_count": 9,
     "metadata": {},
     "output_type": "execute_result"
    }
   ],
   "source": [
    "# boş değerleri atılmış seriyi yazdıralım\n",
    "# (fonksiyonun inplacee parametresine True değerini vermezsek s serisinin değişmeyeceğini unutmayalım.)\n",
    "s.dropna()"
   ]
  },
  {
   "cell_type": "code",
   "execution_count": null,
   "id": "db1d1a1a",
   "metadata": {},
   "outputs": [],
   "source": []
  }
 ],
 "metadata": {
  "kernelspec": {
   "display_name": "Python 3 (ipykernel)",
   "language": "python",
   "name": "python3"
  },
  "language_info": {
   "codemirror_mode": {
    "name": "ipython",
    "version": 3
   },
   "file_extension": ".py",
   "mimetype": "text/x-python",
   "name": "python",
   "nbconvert_exporter": "python",
   "pygments_lexer": "ipython3",
   "version": "3.10.5"
  }
 },
 "nbformat": 4,
 "nbformat_minor": 5
}
